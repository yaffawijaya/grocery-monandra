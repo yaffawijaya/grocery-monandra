{
 "cells": [
  {
   "cell_type": "markdown",
   "id": "0b75d1e2",
   "metadata": {},
   "source": [
    "## Setup"
   ]
  },
  {
   "cell_type": "code",
   "execution_count": 1,
   "id": "8766c2c6",
   "metadata": {},
   "outputs": [
    {
     "name": "stdout",
     "output_type": "stream",
     "text": [
      "Setup complete. Faker initialized for 'id_ID'.\n",
      "Target Cabang: 100\n",
      "Target Karyawan: 2000\n",
      "Target Transaksi Harian Records: 10000\n",
      "Target Unique Transaction Events: 4000\n"
     ]
    }
   ],
   "source": [
    "import pandas as pd\n",
    "import random\n",
    "import uuid\n",
    "from datetime import datetime, timedelta, date\n",
    "from faker import Faker\n",
    "\n",
    "# Initialize Faker (using Indonesian locale for more contextual data)\n",
    "fake = Faker('id_ID')\n",
    "\n",
    "# --- Configuration ---\n",
    "NUM_CABANG = 100\n",
    "NUM_KARYAWAN = 2000\n",
    "NUM_TRANSAKSI_HARIAN_RECORDS = 10000\n",
    "# Number of unique shopping instances (each can have one or more items)\n",
    "NUM_UNIQUE_TRANSACTION_EVENTS = 4000\n",
    "\n",
    "# --- Master Data ---\n",
    "JABATAN_LIST = ['Kasir', 'Staff Gudang', 'Supervisor Toko', 'Asisten Manajer', 'Manajer Toko', 'Pramuniaga', 'Admin']\n",
    "\n",
    "# Items and their consistent prices\n",
    "ITEMS_PRICE_MAP = {\n",
    "    'Beras Premium 5kg': 65000,\n",
    "    'Minyak Goreng Refill 2L': 32000,\n",
    "    'Gula Pasir 1kg': 14000,\n",
    "    'Telur Ayam (per kg)': 25000,\n",
    "    'Roti Tawar': 15000,\n",
    "    'Susu UHT Cokelat 1L': 18000,\n",
    "    'Kopi Instan Sachet (isi 10)': 12000,\n",
    "    'Teh Celup Kotak (isi 25)': 8000,\n",
    "    'Mie Instan Goreng (5 bungkus)': 13000,\n",
    "    'Sabun Mandi Batang': 3000,\n",
    "    'Shampoo Botol 170ml': 22000,\n",
    "    'Pasta Gigi 100g': 9000,\n",
    "    'Deterjen Bubuk 800g': 17000,\n",
    "    'Air Mineral Galon 19L': 20000,\n",
    "    'Biskuit Kaleng': 35000\n",
    "}\n",
    "ITEM_NAMES = list(ITEMS_PRICE_MAP.keys())\n",
    "\n",
    "# Date range for transactions\n",
    "TRANSACTION_START_DATE = date(2024, 1, 1)\n",
    "TRANSACTION_END_DATE = date(2024, 12, 31)\n",
    "TRANSACTION_DATE_RANGE_DAYS = (TRANSACTION_END_DATE - TRANSACTION_START_DATE).days\n",
    "\n",
    "print(\"Setup complete. Faker initialized for 'id_ID'.\")\n",
    "print(f\"Target Cabang: {NUM_CABANG}\")\n",
    "print(f\"Target Karyawan: {NUM_KARYAWAN}\")\n",
    "print(f\"Target Transaksi Harian Records: {NUM_TRANSAKSI_HARIAN_RECORDS}\")\n",
    "print(f\"Target Unique Transaction Events: {NUM_UNIQUE_TRANSACTION_EVENTS}\")"
   ]
  },
  {
   "cell_type": "markdown",
   "id": "9681ca38",
   "metadata": {},
   "source": [
    "## Generate `Cabang` Sheet"
   ]
  },
  {
   "cell_type": "code",
   "execution_count": null,
   "id": "da03310b",
   "metadata": {},
   "outputs": [
    {
     "ename": "AttributeError",
     "evalue": "'Generator' object has no attribute 'province'",
     "output_type": "error",
     "traceback": [
      "\u001b[31m---------------------------------------------------------------------------\u001b[39m",
      "\u001b[31mAttributeError\u001b[39m                            Traceback (most recent call last)",
      "\u001b[36mCell\u001b[39m\u001b[36m \u001b[39m\u001b[32mIn[2]\u001b[39m\u001b[32m, line 7\u001b[39m\n\u001b[32m      5\u001b[39m \u001b[38;5;28;01mif\u001b[39;00m random.random() < \u001b[32m0.3\u001b[39m: \u001b[38;5;66;03m# Add some variation like \"Utama\", \"Pembantu\"\u001b[39;00m\n\u001b[32m      6\u001b[39m     nama_cabang += \u001b[33m\"\u001b[39m\u001b[33m \u001b[39m\u001b[33m\"\u001b[39m + random.choice([\u001b[33m\"\u001b[39m\u001b[33mUtama\u001b[39m\u001b[33m\"\u001b[39m, \u001b[33m\"\u001b[39m\u001b[33mSentra\u001b[39m\u001b[33m\"\u001b[39m, \u001b[33m\"\u001b[39m\u001b[33mExpress\u001b[39m\u001b[33m\"\u001b[39m, \u001b[33m\"\u001b[39m\u001b[33mPlus\u001b[39m\u001b[33m\"\u001b[39m])\n\u001b[32m----> \u001b[39m\u001b[32m7\u001b[39m lokasi = \u001b[33mf\u001b[39m\u001b[33m\"\u001b[39m\u001b[38;5;132;01m{\u001b[39;00mfake.street_address()\u001b[38;5;132;01m}\u001b[39;00m\u001b[33m, \u001b[39m\u001b[38;5;132;01m{\u001b[39;00mfake.city()\u001b[38;5;132;01m}\u001b[39;00m\u001b[33m, \u001b[39m\u001b[38;5;132;01m{\u001b[39;00m\u001b[43mfake\u001b[49m\u001b[43m.\u001b[49m\u001b[43mprovince\u001b[49m()\u001b[38;5;132;01m}\u001b[39;00m\u001b[33m\"\u001b[39m\n\u001b[32m      8\u001b[39m kontak_cabang = fake.phone_number()\n\u001b[32m     10\u001b[39m cabang_data.append({\n\u001b[32m     11\u001b[39m     \u001b[33m\"\u001b[39m\u001b[33mid_cabang\u001b[39m\u001b[33m\"\u001b[39m: id_cabang,\n\u001b[32m     12\u001b[39m     \u001b[33m\"\u001b[39m\u001b[33mnama_cabang\u001b[39m\u001b[33m\"\u001b[39m: nama_cabang,\n\u001b[32m     13\u001b[39m     \u001b[33m\"\u001b[39m\u001b[33mlokasi\u001b[39m\u001b[33m\"\u001b[39m: lokasi,\n\u001b[32m     14\u001b[39m     \u001b[33m\"\u001b[39m\u001b[33mkontak_cabang\u001b[39m\u001b[33m\"\u001b[39m: kontak_cabang\n\u001b[32m     15\u001b[39m })\n",
      "\u001b[36mFile \u001b[39m\u001b[32mc:\\Users\\yaffa\\Anaconda3\\envs\\monandra311\\Lib\\site-packages\\faker\\proxy.py:130\u001b[39m, in \u001b[36mFaker.__getattr__\u001b[39m\u001b[34m(self, attr)\u001b[39m\n\u001b[32m    123\u001b[39m \u001b[38;5;250m\u001b[39m\u001b[33;03m\"\"\"\u001b[39;00m\n\u001b[32m    124\u001b[39m \u001b[33;03mHandles cache access and proxying behavior\u001b[39;00m\n\u001b[32m    125\u001b[39m \n\u001b[32m    126\u001b[39m \u001b[33;03m:param attr: attribute name\u001b[39;00m\n\u001b[32m    127\u001b[39m \u001b[33;03m:return: the appropriate attribute\u001b[39;00m\n\u001b[32m    128\u001b[39m \u001b[33;03m\"\"\"\u001b[39;00m\n\u001b[32m    129\u001b[39m \u001b[38;5;28;01mif\u001b[39;00m \u001b[38;5;28mlen\u001b[39m(\u001b[38;5;28mself\u001b[39m._factories) == \u001b[32m1\u001b[39m:\n\u001b[32m--> \u001b[39m\u001b[32m130\u001b[39m     \u001b[38;5;28;01mreturn\u001b[39;00m \u001b[38;5;28;43mgetattr\u001b[39;49m\u001b[43m(\u001b[49m\u001b[38;5;28;43mself\u001b[39;49m\u001b[43m.\u001b[49m\u001b[43m_factories\u001b[49m\u001b[43m[\u001b[49m\u001b[32;43m0\u001b[39;49m\u001b[43m]\u001b[49m\u001b[43m,\u001b[49m\u001b[43m \u001b[49m\u001b[43mattr\u001b[49m\u001b[43m)\u001b[49m\n\u001b[32m    131\u001b[39m \u001b[38;5;28;01melif\u001b[39;00m attr \u001b[38;5;129;01min\u001b[39;00m \u001b[38;5;28mself\u001b[39m.generator_attrs:\n\u001b[32m    132\u001b[39m     msg = \u001b[33m\"\u001b[39m\u001b[33mProxying calls to `\u001b[39m\u001b[38;5;132;01m%s\u001b[39;00m\u001b[33m` is not implemented in multiple locale mode.\u001b[39m\u001b[33m\"\u001b[39m % attr\n",
      "\u001b[31mAttributeError\u001b[39m: 'Generator' object has no attribute 'province'"
     ]
    }
   ],
   "source": [
    "# Cell 2: Generate Cabang Data (Corrected)\n",
    "\n",
    "cabang_data = []\n",
    "for i in range(1, NUM_CABANG + 1):\n",
    "    id_cabang = f\"CB{i:03d}\" # e.g., CB001, CB002, ..., CB100\n",
    "    nama_cabang = f\"Cabang {fake.city_name()}\" # Using city_name for variety in branch names\n",
    "    if random.random() < 0.3: # Add some variation like \"Utama\", \"Pembantu\"\n",
    "        nama_cabang += \" \" + random.choice([\"Utama\", \"Sentra\", \"Express\", \"Plus\"])\n",
    "    \n",
    "    # Corrected line: using administrative_unit instead of province\n",
    "    # and ensuring fake.city() or fake.city_name() is used for city\n",
    "    lokasi = f\"{fake.street_address()}, {fake.city()}, {fake.administrative_unit()}\"\n",
    "    kontak_cabang = fake.phone_number()\n",
    "    \n",
    "    cabang_data.append({\n",
    "        \"id_cabang\": id_cabang,\n",
    "        \"nama_cabang\": nama_cabang,\n",
    "        \"lokasi\": lokasi,\n",
    "        \"kontak_cabang\": kontak_cabang\n",
    "    })\n",
    "\n",
    "df_cabang = pd.DataFrame(cabang_data)\n",
    "print(\"--- Cabang Data (First 5 Rows) ---\")\n",
    "print(df_cabang.head())\n",
    "print(f\"\\nGenerated {len(df_cabang)} cabang records.\")"
   ]
  },
  {
   "cell_type": "code",
   "execution_count": null,
   "id": "5bb32479",
   "metadata": {},
   "outputs": [],
   "source": [
    "df_cabang.head()"
   ]
  },
  {
   "cell_type": "markdown",
   "id": "fa784c74",
   "metadata": {},
   "source": [
    "## Generate `Karyawan` Sheet"
   ]
  },
  {
   "cell_type": "code",
   "execution_count": null,
   "id": "7bd1083b",
   "metadata": {},
   "outputs": [],
   "source": [
    "karyawan_data = []\n",
    "if df_cabang.empty:\n",
    "    print(\"Cabang data is empty. Please generate cabang data first.\")\n",
    "else:\n",
    "    list_id_cabang = df_cabang['id_cabang'].tolist()\n",
    "    for i in range(1, NUM_KARYAWAN + 1):\n",
    "        id_karyawan = f\"KR{i:04d}\" # e.g., KR0001, ..., KR2000\n",
    "        nama_karyawan = fake.name()\n",
    "        jabatan = random.choice(JABATAN_LIST)\n",
    "        assigned_id_cabang = random.choice(list_id_cabang)\n",
    "        \n",
    "        karyawan_data.append({\n",
    "            \"id_karyawan\": id_karyawan,\n",
    "            \"nama_karyawan\": nama_karyawan,\n",
    "            \"jabatan\": jabatan,\n",
    "            \"id_cabang\": assigned_id_cabang\n",
    "        })\n",
    "\n",
    "    df_karyawan = pd.DataFrame(karyawan_data)\n",
    "    print(\"--- Karyawan Data (First 5 Rows) ---\")\n",
    "    print(f\"\\nGenerated {len(df_karyawan)} karyawan records.\")\n",
    "    df_karyawan.head()\n"
   ]
  },
  {
   "cell_type": "code",
   "execution_count": null,
   "id": "84d8fef9",
   "metadata": {},
   "outputs": [],
   "source": [
    "# Create a helper mapping for easier lookup of (karyawan_id, cabang_id)\n",
    "karyawan_cabang_map = []\n",
    "if not df_karyawan.empty:\n",
    "    karyawan_cabang_map = list(df_karyawan[['id_karyawan', 'id_cabang']].itertuples(index=False, name=None))"
   ]
  },
  {
   "cell_type": "markdown",
   "id": "050ffc2f",
   "metadata": {},
   "source": [
    "## Generate `transaksi_harian` sheet"
   ]
  },
  {
   "cell_type": "code",
   "execution_count": null,
   "id": "80817d5e",
   "metadata": {},
   "outputs": [],
   "source": [
    "transaksi_harian_data = []\n",
    "\n",
    "if not karyawan_cabang_map:\n",
    "    print(\"Karyawan data is empty or map not created. Please generate karyawan data first.\")\n",
    "else:\n",
    "    # 1. Generate unique transaction events (core info)\n",
    "    unique_transaction_events = []\n",
    "    for i in range(1, NUM_UNIQUE_TRANSACTION_EVENTS + 1):\n",
    "        id_transaksi_unik = f\"TRX{i:05d}\" # e.g., TRX00001\n",
    "        id_karyawan, id_cabang = random.choice(karyawan_cabang_map)\n",
    "        \n",
    "        random_days = random.randint(0, TRANSACTION_DATE_RANGE_DAYS)\n",
    "        tanggal_transaksi = TRANSACTION_START_DATE + timedelta(days=random_days)\n",
    "        \n",
    "        unique_transaction_events.append({\n",
    "            \"id_transaksi\": id_transaksi_unik,\n",
    "            \"id_karyawan\": id_karyawan,\n",
    "            \"id_cabang\": id_cabang,\n",
    "            \"tanggal\": tanggal_transaksi.isoformat()\n",
    "        })\n",
    "\n",
    "    # 2. Generate transaction line items to meet NUM_TRANSAKSI_HARIAN_RECORDS\n",
    "    current_records_count = 0\n",
    "    \n",
    "    # Ensure each unique transaction event has at least one item\n",
    "    for event in unique_transaction_events:\n",
    "        if current_records_count >= NUM_TRANSAKSI_HARIAN_RECORDS:\n",
    "            break # Stop if we've already reached the target\n",
    "            \n",
    "        id_transaksi_harian = str(uuid.uuid4())\n",
    "        nama_barang = random.choice(ITEM_NAMES)\n",
    "        harga_barang = ITEMS_PRICE_MAP[nama_barang]\n",
    "        qty = random.randint(1, 5) # Max 5 items per line item\n",
    "        total_transaksi = qty * harga_barang\n",
    "        \n",
    "        transaksi_harian_data.append({\n",
    "            \"id_transaksi_harian\": id_transaksi_harian,\n",
    "            \"id_transaksi\": event[\"id_transaksi\"],\n",
    "            \"id_cabang\": event[\"id_cabang\"],\n",
    "            \"id_karyawan\": event[\"id_karyawan\"],\n",
    "            \"tanggal\": event[\"tanggal\"],\n",
    "            \"nama_barang\": nama_barang,\n",
    "            \"qty\": qty,\n",
    "            \"harga_barang\": harga_barang,\n",
    "            \"total_transaksi\": total_transaksi\n",
    "        })\n",
    "        current_records_count += 1\n",
    "\n",
    "    # Add more items to random unique transactions until NUM_TRANSAKSI_HARIAN_RECORDS is met\n",
    "    while current_records_count < NUM_TRANSAKSI_HARIAN_RECORDS:\n",
    "        event = random.choice(unique_transaction_events) # Pick a random existing transaction event\n",
    "        \n",
    "        id_transaksi_harian = str(uuid.uuid4())\n",
    "        nama_barang = random.choice(ITEM_NAMES)\n",
    "        harga_barang = ITEMS_PRICE_MAP[nama_barang]\n",
    "        qty = random.randint(1, 5)\n",
    "        total_transaksi = qty * harga_barang\n",
    "        \n",
    "        transaksi_harian_data.append({\n",
    "            \"id_transaksi_harian\": id_transaksi_harian,\n",
    "            \"id_transaksi\": event[\"id_transaksi\"],\n",
    "            \"id_cabang\": event[\"id_cabang\"],\n",
    "            \"id_karyawan\": event[\"id_karyawan\"],\n",
    "            \"tanggal\": event[\"tanggal\"], # Use the same date as the parent transaction event\n",
    "            \"nama_barang\": nama_barang,\n",
    "            \"qty\": qty,\n",
    "            \"harga_barang\": harga_barang,\n",
    "            \"total_transaksi\": total_transaksi\n",
    "        })\n",
    "        current_records_count += 1\n",
    "        \n",
    "    df_transaksi_harian = pd.DataFrame(transaksi_harian_data)\n",
    "    # Shuffle the transaction data for more randomness if needed\n",
    "    df_transaksi_harian = df_transaksi_harian.sample(frac=1).reset_index(drop=True)\n",
    "\n",
    "    print(\"--- Transaksi Harian Data (First 5 Rows) ---\")\n",
    "    print(df_transaksi_harian.head())\n",
    "    print(f\"\\nGenerated {len(df_transaksi_harian)} transaksi harian records.\")"
   ]
  },
  {
   "cell_type": "markdown",
   "id": "a8a3e5b9",
   "metadata": {},
   "source": [
    "## Import Grocery Data to `.csv` "
   ]
  },
  {
   "cell_type": "code",
   "execution_count": null,
   "id": "547c47eb",
   "metadata": {},
   "outputs": [],
   "source": [
    "# Define the output Excel file name\n",
    "excel_output_filename = \"synthetic_grocery_data.xlsx\"\n",
    "\n",
    "try:\n",
    "    with pd.ExcelWriter(excel_output_filename, engine='openpyxl') as writer:\n",
    "        if not df_cabang.empty:\n",
    "            df_cabang.to_excel(writer, sheet_name='Cabang', index=False)\n",
    "            print(f\"Sheet 'Cabang' written with {len(df_cabang)} rows.\")\n",
    "        else:\n",
    "            print(\"Cabang data is empty, not writing to Excel.\")\n",
    "            \n",
    "        if not df_karyawan.empty:\n",
    "            df_karyawan.to_excel(writer, sheet_name='Karyawan', index=False)\n",
    "            print(f\"Sheet 'Karyawan' written with {len(df_karyawan)} rows.\")\n",
    "        else:\n",
    "            print(\"Karyawan data is empty, not writing to Excel.\")\n",
    "            \n",
    "        if not df_transaksi_harian.empty:\n",
    "            df_transaksi_harian.to_excel(writer, sheet_name='Transaksi_Harian', index=False)\n",
    "            print(f\"Sheet 'Transaksi_Harian' written with {len(df_transaksi_harian)} rows.\")\n",
    "        else:\n",
    "            print(\"Transaksi Harian data is empty, not writing to Excel.\")\n",
    "            \n",
    "    print(f\"\\nSuccessfully exported data to '{excel_output_filename}'\")\n",
    "    # alhamdulillah\n",
    "except Exception as e:\n",
    "    print(f\"An error occurred during Excel export: {e}\")\n",
    "\n",
    "# Note: If you strictly need CSV files, you would do:\n",
    "# df_cabang.to_csv('cabang_data.csv', index=False)\n",
    "# df_karyawan.to_csv('karyawan_data.csv', index=False)\n",
    "# df_transaksi_harian.to_csv('transaksi_harian_data.csv', index=False)\n",
    "# print(\"\\nIf you prefer CSV, three separate files would be created.\")"
   ]
  },
  {
   "cell_type": "code",
   "execution_count": null,
   "id": "4815d112",
   "metadata": {},
   "outputs": [],
   "source": []
  },
  {
   "cell_type": "code",
   "execution_count": null,
   "id": "fde1b36d",
   "metadata": {},
   "outputs": [],
   "source": []
  }
 ],
 "metadata": {
  "kernelspec": {
   "display_name": "monandra311",
   "language": "python",
   "name": "python3"
  },
  "language_info": {
   "codemirror_mode": {
    "name": "ipython",
    "version": 3
   },
   "file_extension": ".py",
   "mimetype": "text/x-python",
   "name": "python",
   "nbconvert_exporter": "python",
   "pygments_lexer": "ipython3",
   "version": "3.11.11"
  }
 },
 "nbformat": 4,
 "nbformat_minor": 5
}
